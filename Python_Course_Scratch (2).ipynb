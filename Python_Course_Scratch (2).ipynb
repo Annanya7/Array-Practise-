{
  "nbformat": 4,
  "nbformat_minor": 0,
  "metadata": {
    "colab": {
      "provenance": []
    },
    "kernelspec": {
      "name": "python3",
      "display_name": "Python 3"
    },
    "language_info": {
      "name": "python"
    }
  },
  "cells": [
    {
      "cell_type": "code",
      "execution_count": null,
      "metadata": {
        "id": "IqMLGw_7YZxa"
      },
      "outputs": [],
      "source": []
    },
    {
      "cell_type": "markdown",
      "source": [
        "Difference btw C and Python \n",
        "* Its procedural \n",
        "* Shorter code \n",
        "* No inialisation \n",
        "* Dynamic Memory \n",
        "* Compatible with other interfaces \n",
        "\n",
        "\n"
      ],
      "metadata": {
        "id": "Mo7Rtli_TCsO"
      }
    },
    {
      "cell_type": "code",
      "source": [
        "# Conversion into Decimal Number System \n",
        "n=0O123\n",
        "print(int(n))\n",
        "n=0B101010\n",
        "print(int(n))\n",
        "n=0XAF43\n",
        "print(int(n))"
      ],
      "metadata": {
        "colab": {
          "base_uri": "https://localhost:8080/"
        },
        "id": "xuruSvg1UAbY",
        "outputId": "0e2a0f18-b709-4e2d-8b08-a985401b7ddb"
      },
      "execution_count": null,
      "outputs": [
        {
          "output_type": "stream",
          "name": "stdout",
          "text": [
            "83\n",
            "42\n",
            "44867\n"
          ]
        }
      ]
    },
    {
      "cell_type": "code",
      "source": [
        "# Convert into binary | decimal | hexadecimal \n",
        "n=100\n",
        "print(bin(n))\n",
        "print(hex(n))\n"
      ],
      "metadata": {
        "colab": {
          "base_uri": "https://localhost:8080/"
        },
        "id": "EQCmg77TUZ6W",
        "outputId": "ab26236b-15b3-42f2-f824-f22b2d02e1ba"
      },
      "execution_count": null,
      "outputs": [
        {
          "output_type": "stream",
          "name": "stdout",
          "text": [
            "0b1100100\n",
            "0x64\n",
            "100\n"
          ]
        }
      ]
    },
    {
      "cell_type": "markdown",
      "source": [
        "DAY2- Printing statements in Python "
      ],
      "metadata": {
        "id": "M5VSWYhK45LN"
      }
    },
    {
      "cell_type": "code",
      "source": [
        "# Adding and multiplication of two numbers \n",
        "a=int(input(\"Enter the number\"))\n",
        "b=int(input(\"Enter the number\"))\n",
        "s=a+b\n",
        "m=a*b\n",
        "# Printing in the same line \n",
        "print(\"The sum of two numbers is\",s,\"The multiplication of two numbers is=\",m)\n",
        "# Printing in different line \n",
        "print(\"The sum=\",s,\"\\n\",\"The multiplication=\",m)"
      ],
      "metadata": {
        "id": "-IflJzZLUPmu",
        "colab": {
          "base_uri": "https://localhost:8080/"
        },
        "outputId": "a3869d79-d388-4276-9410-9734a4b335f7"
      },
      "execution_count": null,
      "outputs": [
        {
          "output_type": "stream",
          "name": "stdout",
          "text": [
            "Enter the number10\n",
            "Enter the number12\n",
            "The sum of two numbers is 22 The multiplication of two numbers is= 120\n",
            "The sum= 22 \n",
            " The multiplication= 120\n"
          ]
        }
      ]
    },
    {
      "cell_type": "markdown",
      "source": [
        "Separators\n",
        "*   sep=\" \"\n",
        "*   In the same line, the by default = space\n",
        "*   Can modify acc to ur need \n",
        "\n",
        "End\n",
        "*    end= \" \" \n",
        "*    Affects the next line to be printed.\n",
        "*    If end=\"\\n\", statement in the next line by default \n",
        "\n"
      ],
      "metadata": {
        "id": "gU12KoHm8q_M"
      }
    },
    {
      "cell_type": "code",
      "source": [
        "print(\"Hello\", \"Everyone\")\n",
        "print(\"Hello\", \"Everyone\", sep=\",\")\n",
        "print(\"Hello\",\"Everyone\",sep=\"\\t\", end=\" * \")\n",
        "print(\"My name is ananya\")\n"
      ],
      "metadata": {
        "colab": {
          "base_uri": "https://localhost:8080/"
        },
        "id": "mkmLC1ES9LPW",
        "outputId": "4519a413-1daa-41b6-d78a-4db27a775e52"
      },
      "execution_count": null,
      "outputs": [
        {
          "output_type": "stream",
          "name": "stdout",
          "text": [
            "Hello Everyone\n",
            "Hello,Everyone\n",
            "Hello\tEveryone * My name is ananya\n"
          ]
        }
      ]
    },
    {
      "cell_type": "markdown",
      "source": [
        "Assignment Opertaors"
      ],
      "metadata": {
        "id": "Gfd_CHBh-G_d"
      }
    },
    {
      "cell_type": "code",
      "source": [
        "# Power of a number \n",
        "print(\"5 to the power 4 is written as\",5**4)\n",
        "# Unpacking of the values in the single line \n",
        "a,b,c=10,20,30\n",
        "print(\"a=\",a,\"b=\",b,\"c=\",c)\n",
        "# Unpacking taking the input values as well\n",
        "x,y,z=input(),input(),input()\n",
        "print(x,y,z)"
      ],
      "metadata": {
        "colab": {
          "base_uri": "https://localhost:8080/"
        },
        "id": "zMg26AiJ-GYZ",
        "outputId": "47b83e3c-e111-44ad-ee55-11cc6a569c55"
      },
      "execution_count": null,
      "outputs": [
        {
          "output_type": "stream",
          "name": "stdout",
          "text": [
            "5 to the power 4 is written as 625\n",
            "a= 10 b= 20 c= 30\n",
            "100\n",
            "200\n",
            "300\n",
            "100 200 300\n"
          ]
        }
      ]
    },
    {
      "cell_type": "markdown",
      "source": [
        "Operators in Python\n",
        "\n",
        "*   Arithmetic: +,-,*,/,//,%,**\n",
        "*   Assignmnet: =,+=,-=, .....\n",
        "*   Relational: >,<,==,!=,<=,>=\n",
        "*   Logical: and , or , not \n",
        "*   Boolean: True , False \n",
        "*   Bitwise: &,|,^,<<,>>,~\n",
        "*   Unary Minus\n",
        "*   Membership and Identity \n",
        "\n"
      ],
      "metadata": {
        "id": "MI48LTK6Fzjw"
      }
    },
    {
      "cell_type": "code",
      "source": [
        "# ARITHEMETIC\n",
        "a,b=30,15\n",
        "print(\"Decimal Divison\", a/b)\n",
        "print(\"Integer Divison\", a//b)\n",
        "print(\"Remainder Divison\", a%b)"
      ],
      "metadata": {
        "colab": {
          "base_uri": "https://localhost:8080/"
        },
        "id": "zWP5VFVDFz44",
        "outputId": "467603ab-aed6-4715-980e-86c2c430155d"
      },
      "execution_count": null,
      "outputs": [
        {
          "output_type": "stream",
          "name": "stdout",
          "text": [
            "Decimal Divison 2.0\n",
            "Integer Divison 2\n",
            "Remainder Divison 0\n"
          ]
        }
      ]
    },
    {
      "cell_type": "code",
      "source": [
        "# UNARY MINUS \n",
        "a=30\n",
        "b=-a\n",
        "c=-b\n",
        "print(a,b,c)"
      ],
      "metadata": {
        "colab": {
          "base_uri": "https://localhost:8080/"
        },
        "id": "d0sQltoUFz65",
        "outputId": "545b0121-d08b-463c-e54e-b544b72494e6"
      },
      "execution_count": null,
      "outputs": [
        {
          "output_type": "stream",
          "name": "stdout",
          "text": [
            "30 -30 30\n"
          ]
        }
      ]
    },
    {
      "cell_type": "code",
      "source": [
        "# RELATIONAL OPERATORS \n",
        "a,b=10,20\n",
        "print(a>b , a<=b , a>=b, a==b , a!=b, sep=\"\\t\",end=\" ^ \")\n",
        "# CHAINED RELATIONAL OPERATORS \n",
        "x=15\n",
        "print(10<x<20)\n",
        "print(1<2>3<4)"
      ],
      "metadata": {
        "colab": {
          "base_uri": "https://localhost:8080/"
        },
        "id": "cSgHfu1zFz9g",
        "outputId": "7fe08950-ee7f-433f-b1bb-d60a2b763bc7"
      },
      "execution_count": null,
      "outputs": [
        {
          "output_type": "stream",
          "name": "stdout",
          "text": [
            "False\tTrue\tFalse\tFalse\tTrue ^ True\n",
            "False\n"
          ]
        }
      ]
    },
    {
      "cell_type": "code",
      "source": [
        "# LOGICAL OPERATORS \n",
        "# AND : returns the second value \n",
        "# OR  : returns the first value \n",
        "# Or - 1st statement , if no condition otherwise true or false \n",
        "x=500\n",
        "y=200\n",
        "# or hence will give 500 \n",
        "print(x or y)\n",
        "print( not x)\n",
        "\n",
        "x,y,z=1,2,3\n",
        "if x<y and y<2:\n",
        "  print('yes')\n",
        "else:\n",
        "  print('no')\n",
        "if x<y or y<2:\n",
        "  print('yes')\n",
        "else:\n",
        "  print('no')"
      ],
      "metadata": {
        "colab": {
          "base_uri": "https://localhost:8080/"
        },
        "id": "-NAVWo_jFz_N",
        "outputId": "680d8a04-3a5b-4941-848d-dfbc6309db54"
      },
      "execution_count": null,
      "outputs": [
        {
          "output_type": "stream",
          "name": "stdout",
          "text": [
            "500\n",
            "False\n",
            "no\n",
            "yes\n"
          ]
        }
      ]
    },
    {
      "cell_type": "code",
      "source": [
        "# BOOLEAN OPERATORS \n",
        "# AND : Both true then true \n",
        "# OR : One true then true \n",
        "a,b=True, False \n",
        "print(a and b, a or b , not a , not b , a and a , b or b , b and b)"
      ],
      "metadata": {
        "colab": {
          "base_uri": "https://localhost:8080/"
        },
        "id": "159iFPN78mvW",
        "outputId": "4796de6d-c38e-41e7-98ba-6765cc9bb5b3"
      },
      "execution_count": null,
      "outputs": [
        {
          "output_type": "stream",
          "name": "stdout",
          "text": [
            "False True False True True False False\n"
          ]
        }
      ]
    },
    {
      "cell_type": "code",
      "source": [
        "# BITWISE OPERATORS \n",
        "# Converting a number into binary format\n",
        "n=45\n",
        "print(\"Binary of\",n,\"=\",bin(n))\n",
        "\n",
        "# BITWISE AND (&)\n",
        "x=10\n",
        "y=11\n",
        "print(x,y)\n",
        "print)"
      ],
      "metadata": {
        "colab": {
          "base_uri": "https://localhost:8080/"
        },
        "id": "MDp0G_ZA8mxC",
        "outputId": "272c7cc1-eae4-49df-be72-e12a173f45af"
      },
      "execution_count": null,
      "outputs": [
        {
          "output_type": "stream",
          "name": "stdout",
          "text": [
            "Binary of 45 = 0b101101\n",
            "10 11\n",
            "10\n"
          ]
        }
      ]
    },
    {
      "cell_type": "code",
      "source": [
        "x=0b00001010\n",
        "y=0b00001011\n",
        "c=x&y\n",
        "print(c)"
      ],
      "metadata": {
        "colab": {
          "base_uri": "https://localhost:8080/"
        },
        "id": "BZigTmBQ8m1E",
        "outputId": "0380121d-3b4c-4bb2-f61d-ca47493e1887"
      },
      "execution_count": null,
      "outputs": [
        {
          "output_type": "stream",
          "name": "stdout",
          "text": [
            "10\n"
          ]
        }
      ]
    },
    {
      "cell_type": "code",
      "source": [
        "# Calculate the area and perimenter of a rectangle \n",
        "l,b=int(input()),int(input())\n",
        "area,peri=l*b, 2*(l+b)\n",
        "print(\"The area=%f The perimeter=%f\" %(area,peri))"
      ],
      "metadata": {
        "colab": {
          "base_uri": "https://localhost:8080/"
        },
        "id": "71xDX-Q8U4qM",
        "outputId": "b514d5e3-e3cf-42f2-f328-a40caee5a65b"
      },
      "execution_count": null,
      "outputs": [
        {
          "output_type": "stream",
          "name": "stdout",
          "text": [
            "10\n",
            "20\n",
            "The area=200.000000 The perimeter=60.000000\n"
          ]
        }
      ]
    },
    {
      "cell_type": "code",
      "source": [
        "# Sum mul subs div point quoteint remainder  % term\n",
        "a,b=int(input()),int(input())\n",
        "sum,mult,subs,div,fdiv,rem=a+b,a*b,a-b,a//b,a/b,a%b\n",
        "print(\"Sum=%f\\nMultiplication=%i\\nSubstraction=%i\\nDivision=%i\\nDecimal_Divison=%f\\nRemainder=%i \" %(sum,mult,subs,div,fdiv,rem))"
      ],
      "metadata": {
        "id": "Dfcb_HXSUPx6",
        "colab": {
          "base_uri": "https://localhost:8080/"
        },
        "outputId": "19308af1-38e1-4a3e-8851-32bf07fb115b"
      },
      "execution_count": null,
      "outputs": [
        {
          "output_type": "stream",
          "name": "stdout",
          "text": [
            "12\n",
            "5\n",
            "Sum=17.000000\n",
            "Multiplication=60\n",
            "Substraction=7\n",
            "Division=2\n",
            "Decimal_Divison=2.400000\n",
            "Remainder=2 \n"
          ]
        }
      ]
    },
    {
      "cell_type": "code",
      "source": [
        "print(\"helo\",\"there\",sep=\"-\")"
      ],
      "metadata": {
        "colab": {
          "base_uri": "https://localhost:8080/"
        },
        "id": "b8UajnhxXPd9",
        "outputId": "f948853c-e457-4421-db64-42298d3b91e6"
      },
      "execution_count": null,
      "outputs": [
        {
          "output_type": "stream",
          "name": "stdout",
          "text": [
            "helo-there\n"
          ]
        }
      ]
    },
    {
      "cell_type": "code",
      "source": [
        "# FORMAT STRING \n",
        "a=10\n",
        "b=20\n",
        "print(\"sum ={}\\nmultiplication={}\".format(a+b,a*b))"
      ],
      "metadata": {
        "colab": {
          "base_uri": "https://localhost:8080/"
        },
        "id": "C4fP238wXPfr",
        "outputId": "488a97a3-0c75-4f4e-c386-e43ddb9f7b67"
      },
      "execution_count": null,
      "outputs": [
        {
          "output_type": "stream",
          "name": "stdout",
          "text": [
            "sum =30\n",
            "multiplication=200\n"
          ]
        }
      ]
    },
    {
      "cell_type": "code",
      "source": [
        "# Inputting values together \n",
        "a,b,c = [int(x) for x in input(\"Enter the number\").split('+')]\n",
        "print(a,b,c)"
      ],
      "metadata": {
        "colab": {
          "base_uri": "https://localhost:8080/"
        },
        "id": "FJOjXDqubJVZ",
        "outputId": "a2e74a76-538e-4ff0-de98-02d8d379205d"
      },
      "execution_count": null,
      "outputs": [
        {
          "output_type": "stream",
          "name": "stdout",
          "text": [
            "Enter the number67+78+45\n",
            "67 78 45\n"
          ]
        }
      ]
    },
    {
      "cell_type": "code",
      "source": [
        "a =eval(input(\"enter number\"))\n",
        "print(a)"
      ],
      "metadata": {
        "colab": {
          "base_uri": "https://localhost:8080/"
        },
        "id": "t4iaGPXLbtP5",
        "outputId": "4486873b-d314-406e-ff68-dc767bcd34c2"
      },
      "execution_count": null,
      "outputs": [
        {
          "output_type": "stream",
          "name": "stdout",
          "text": [
            "enter number90+67+45+67/5*7\n",
            "295.8\n"
          ]
        }
      ]
    },
    {
      "cell_type": "markdown",
      "source": [
        "CALCULATE THE SUM OF DIGITS OF A NUMBER "
      ],
      "metadata": {
        "id": "R6QyLDMRdE9J"
      }
    },
    {
      "cell_type": "code",
      "source": [
        "num=int(input(\"Enter a  number\"))\n",
        "sum=0\n",
        "while num!=0:\n",
        "  rem=num%10\n",
        "  sum+=rem\n",
        "  num=num//10\n",
        "print(\"The sum of digits of a number={}\".format(sum))\n"
      ],
      "metadata": {
        "colab": {
          "base_uri": "https://localhost:8080/"
        },
        "id": "mqdvoO_6cVas",
        "outputId": "c4540664-862c-45f2-ee13-c6bbb334b4bd"
      },
      "execution_count": null,
      "outputs": [
        {
          "output_type": "stream",
          "name": "stdout",
          "text": [
            "Enter a  number478\n",
            "The sum of digits of a number=19\n"
          ]
        }
      ]
    },
    {
      "cell_type": "code",
      "source": [
        "num=476\n",
        "sum=0\n",
        "rem=num%10\n",
        "sum+=rem\n",
        "num=num//10\n",
        "rem=num%10\n",
        "sum+=rem\n",
        "num=num//10\n",
        "rem=num%10\n",
        "sum+=rem\n",
        "num//=10\n",
        "print(\"Sum of digits=\",sum)"
      ],
      "metadata": {
        "colab": {
          "base_uri": "https://localhost:8080/"
        },
        "id": "8JmAbmr4cVcq",
        "outputId": "1cf95ecf-f666-4874-da4f-3621a6e2a619"
      },
      "execution_count": null,
      "outputs": [
        {
          "output_type": "stream",
          "name": "stdout",
          "text": [
            "Sum of digits= 17\n"
          ]
        }
      ]
    },
    {
      "cell_type": "code",
      "source": [
        "# REVERSE OF A NUMBER \n",
        "rev=0\n",
        "num=476\n",
        "rem=num%10\n",
        "rev=rev*10+rem\n",
        "num=num//10\n",
        "rem=num%10\n",
        "rev=rev*10+rem\n",
        "num=num//10\n",
        "rem=num%10\n",
        "rev=rev*10+rem\n",
        "num//=10\n",
        "print(\"Sum of digits=\",rev)"
      ],
      "metadata": {
        "colab": {
          "base_uri": "https://localhost:8080/"
        },
        "id": "_vPw9WrhcVhF",
        "outputId": "0031d41b-fa78-466f-940b-fbf2ea6d764a"
      },
      "execution_count": null,
      "outputs": [
        {
          "output_type": "stream",
          "name": "stdout",
          "text": [
            "Sum of digits= 674\n"
          ]
        }
      ]
    },
    {
      "cell_type": "markdown",
      "source": [
        "IF ELSE CONDITIONS\n",
        " IF \n",
        "1. Used for more than two conditions \n",
        "2. Checks all the statements \n",
        "\n",
        "IF ELSE \n",
        "1. Used for two conditions \n",
        "2. faster as condition based\n",
        "            "
      ],
      "metadata": {
        "id": "rdxBSmaUXdBy"
      }
    },
    {
      "cell_type": "code",
      "source": [
        "# Check the angles of a triangle and check if it is valid or not \n",
        "a,b,c = [int(x) for x in input(\"Enter the angles\").split()]\n",
        "sum=a+b+c\n",
        "if sum==180:\n",
        "  print(\"The triangle is valid, as the sum=%i\" %sum)\n",
        "else:\n",
        "  print(\"The triangle is invalid as the sum of angles=%i\" %sum)"
      ],
      "metadata": {
        "colab": {
          "base_uri": "https://localhost:8080/"
        },
        "id": "pvEu4qKwcVl4",
        "outputId": "40bccec0-bfb0-44f2-b578-22c61077e4e2"
      },
      "execution_count": null,
      "outputs": [
        {
          "output_type": "stream",
          "name": "stdout",
          "text": [
            "Enter the angles60 60 60\n",
            "The triangle is valid, as the sum=180\n"
          ]
        }
      ]
    },
    {
      "cell_type": "code",
      "source": [
        "# Doing with only if\n",
        "a,b,c = [int(x) for x in input(\"Enter the angles\").split()]\n",
        "sum=a+b+c\n",
        "if sum==180:\n",
        "  print(\"The trainagle is valid\")\n",
        "if sum!=180:\n",
        "  print(\"The triangle is inavlid \")"
      ],
      "metadata": {
        "colab": {
          "base_uri": "https://localhost:8080/"
        },
        "id": "4wXLS8_zcVnk",
        "outputId": "39ee86fc-c590-48b0-8b80-d4a15dc0e60f"
      },
      "execution_count": null,
      "outputs": [
        {
          "output_type": "stream",
          "name": "stdout",
          "text": [
            "Enter the angles30 30 50\n",
            "The triangle is inavlid \n"
          ]
        }
      ]
    },
    {
      "cell_type": "code",
      "source": [
        "# Enter a number and check whether it s positive negative or zero \n",
        "a=int(input(\"Enter the number\"))\n",
        "if a>0:\n",
        "  print(\"The number %i is a positive number\" %a )\n",
        "if a<0:\n",
        "  print(\"The number %i is a negative number\" %a )\n",
        "if a==0:\n",
        "  print(\"The number %i is a zero\" %a )\n"
      ],
      "metadata": {
        "colab": {
          "base_uri": "https://localhost:8080/"
        },
        "id": "dSPmS1nLcVsE",
        "outputId": "b0bd6706-fc8d-4a6f-faab-82cfbb8a7c3a"
      },
      "execution_count": null,
      "outputs": [
        {
          "output_type": "stream",
          "name": "stdout",
          "text": [
            "Enter the number-8\n",
            "The number -8 is a negative number\n"
          ]
        }
      ]
    },
    {
      "cell_type": "code",
      "source": [
        "# CALCULATE PROFIT OR LOSS\n",
        "sp,cp = [int(x) for x in input(\"Enter the number\").split()]\n",
        "if sp>cp:\n",
        "  profit=sp-cp\n",
        "  print(\"The profit=%i\" %profit)\n",
        "else:\n",
        "  loss=cp-sp\n",
        "  print(\"The loss =%i\" %loss)\n",
        "print(\"***************************************************************\")\n",
        "sp,cp = [int(x) for x in input(\"Enter the number\").split()]\n",
        "if sp>cp:\n",
        "  profit=sp-cp\n",
        "  print(\"The profit=%i\" %profit)\n",
        "if cp>sp:\n",
        "  loss=cp-sp\n",
        "  print(\"The loss =%i\" %loss)"
      ],
      "metadata": {
        "colab": {
          "base_uri": "https://localhost:8080/"
        },
        "id": "mJHqzW3aaAOA",
        "outputId": "7aa0645f-3bd3-4cd7-9d1e-27316275eb01"
      },
      "execution_count": null,
      "outputs": [
        {
          "output_type": "stream",
          "name": "stdout",
          "text": [
            "Enter the number100 20\n",
            "The profit=80\n",
            "***************************************************************\n",
            "Enter the number120 140\n",
            "The loss =20\n"
          ]
        }
      ]
    },
    {
      "cell_type": "code",
      "source": [
        "# Check whether a number is even or odd \n",
        "a=int(input(\"Enter a number\"))\n",
        "if a%2==0:\n",
        "  print(\"%i is an even number\"%a)\n",
        "else:\n",
        "  print(\"%i is an odd number\"%a)\n",
        "\n",
        "print(\"*******************************************************\")\n",
        "a=int(input(\"Enter a number\"))\n",
        "if a%2==0:\n",
        "  print(\"%i is an even number\"%a)\n",
        "if a%2!=0:\n",
        "  print(\"%i is an odd number\"%a)\n",
        "  "
      ],
      "metadata": {
        "colab": {
          "base_uri": "https://localhost:8080/"
        },
        "id": "tL4Z_SeHa_dA",
        "outputId": "6b7759f6-9e31-4ea7-f84b-e328a53838ca"
      },
      "execution_count": null,
      "outputs": [
        {
          "output_type": "stream",
          "name": "stdout",
          "text": [
            "Enter a number60\n",
            "60 is an even number\n",
            "*******************************************************\n",
            "Enter a number65\n",
            "65 is an odd number\n"
          ]
        }
      ]
    },
    {
      "cell_type": "code",
      "source": [
        "# Enter the bill amount and calcuate the discount rate \n",
        "bill=int(input(\"Enter the bill amount\"))\n",
        "if bill>50000:\n",
        "  d=0.05\n",
        "  bill-=bill*d\n",
        "  print(\"The bill=%i\"%bill)\n",
        "else:\n",
        "  d=0.02\n",
        "  bill-=bill*d\n",
        "  print(\"The bill=%i\"%bill)\n"
      ],
      "metadata": {
        "colab": {
          "base_uri": "https://localhost:8080/"
        },
        "id": "1_J2ALTtbmsX",
        "outputId": "a3eb4921-30e4-41cd-8618-1b1aae6578e0"
      },
      "execution_count": null,
      "outputs": [
        {
          "output_type": "stream",
          "name": "stdout",
          "text": [
            "Enter the bill amount51000\n",
            "The bill=48450\n"
          ]
        }
      ]
    },
    {
      "cell_type": "code",
      "source": [
        "# Check whether an year is a leap year or not \n",
        "YR=int(input(\"Enter the year\"))\n",
        "if YR%4==0:\n",
        "  print(\"The year is leap year\")\n",
        "else:\n",
        "  print(\"The year is not a leap year\")"
      ],
      "metadata": {
        "colab": {
          "base_uri": "https://localhost:8080/"
        },
        "id": "FqAfID5Pcf2G",
        "outputId": "0bc1ee6a-1cfa-4902-9db0-5a675c8aedb2"
      },
      "execution_count": null,
      "outputs": [
        {
          "output_type": "stream",
          "name": "stdout",
          "text": [
            "Enter the year89\n",
            "The year is not a leap year\n"
          ]
        }
      ]
    },
    {
      "cell_type": "code",
      "source": [
        "# Conversion of distance into kilometers \n",
        "d=float(input(\"Enter the distance in meter\"))\n",
        "print(\"The distance in kms=%f\"% (d*0.001))\n"
      ],
      "metadata": {
        "colab": {
          "base_uri": "https://localhost:8080/"
        },
        "id": "0lrzO01Zc0fX",
        "outputId": "b494aee8-b433-4e9a-ec80-f040dfbd8d83"
      },
      "execution_count": null,
      "outputs": [
        {
          "output_type": "stream",
          "name": "stdout",
          "text": [
            "Enter the distance in meter3000\n",
            "The distance in kms=3.000000\n"
          ]
        }
      ]
    },
    {
      "cell_type": "code",
      "source": [
        "# Enter the age group of a person and check whether a person can vote or not \n",
        "age=int(input(\"Enter the age grp of a person \"))\n",
        "if age>=18:\n",
        "  print(\"A person can vote\")\n",
        "else:\n",
        "  print(\"A person cannot vote\")\n",
        "\n",
        "print(\"*****************************************************\")\n",
        "if age>18:\n",
        "  print(\"A person can vote\")\n",
        "if age<18:\n",
        "  print(\"A person cannot vote\")\n",
        "if age==18:\n",
        "  print(\"A person can vote\")\n"
      ],
      "metadata": {
        "colab": {
          "base_uri": "https://localhost:8080/"
        },
        "id": "FcJsp24Ifgiz",
        "outputId": "80442b07-6d49-420e-e7e0-c4b83440ae51"
      },
      "execution_count": null,
      "outputs": [
        {
          "output_type": "stream",
          "name": "stdout",
          "text": [
            "Enter the age grp of a person 26\n",
            "A person can vote\n",
            "*****************************************************\n",
            "A person can vote\n"
          ]
        }
      ]
    },
    {
      "cell_type": "markdown",
      "source": [
        "NESTED ELSE IF "
      ],
      "metadata": {
        "id": "9_TvLy6QqaZ3"
      }
    },
    {
      "cell_type": "code",
      "source": [
        "# ENTER THE COORDINATES OF A GRAPH AND CHCK WHETHER THEY LIE ON X, Y PLANE OR X OR BY AXIS OR THE ORIGIN \n",
        "x,y=[int(x) for x in input(\"Enter the coordinates\").split()]\n",
        "if x==0:\n",
        "  if y==0:\n",
        "    print(\"Coordinates {} lie at the Origin\".format(x,y))\n",
        "  else:\n",
        "     print(\"Coordinates {} lie at the Y-axis\".format(x,y))\n",
        "else:\n",
        "   if y==0:\n",
        "    print(\"Coordinates {} lie at the X-axis\".format(x,y))\n",
        "   else:\n",
        "     print(\"Coordinates {} lie at the XY-plane\".format(x,y))"
      ],
      "metadata": {
        "colab": {
          "base_uri": "https://localhost:8080/"
        },
        "id": "JtcEi9B7qY9x",
        "outputId": "f4112627-fdb6-4f3e-a33b-d38cd8218c9d"
      },
      "execution_count": null,
      "outputs": [
        {
          "output_type": "stream",
          "name": "stdout",
          "text": [
            "Enter the coordinates5 7\n",
            "Coordinates 5 lie at the XY-plane\n"
          ]
        }
      ]
    },
    {
      "cell_type": "code",
      "source": [
        "# Doing the same questions using elif ladder \n",
        "x,y=[int(x) for x in input(\"Enter the coordinates\").split()]\n",
        "if x==0:\n",
        "  if y==0:\n",
        "    print(\"Origin\")\n",
        "  else:\n",
        "    print(\"Y axis\")\n",
        "elif y==0:\n",
        "  if x!=0:\n",
        "    print(\"X axis\")\n",
        "  else:\n",
        "    "
      ],
      "metadata": {
        "id": "tuRYJH3YqY_h"
      },
      "execution_count": null,
      "outputs": []
    },
    {
      "cell_type": "code",
      "source": [
        "x,y=[int(x) for x in input(\"Enter the coordinates\").split()]\n",
        "if x==0:\n",
        "  if y==0:\n",
        "    print(\"origin\")\n",
        "  else:\n",
        "    print(\"Y axis\")\n",
        "elif y==0:\n",
        "  print(\"X axis\")\n",
        "else:\n",
        "  print(\"XY plane\")\n",
        "\n"
      ],
      "metadata": {
        "colab": {
          "base_uri": "https://localhost:8080/"
        },
        "id": "cHOEDPnPuprM",
        "outputId": "77ca51a9-12dc-4562-ab05-ca6be42c67a9"
      },
      "execution_count": null,
      "outputs": [
        {
          "output_type": "stream",
          "name": "stdout",
          "text": [
            "Enter the coordinates0 8\n",
            "Y axis\n"
          ]
        }
      ]
    },
    {
      "cell_type": "code",
      "source": [
        "# Enter three number and check the greatest of the three number\n",
        "a,b,c=[int(x) for x in input(\"Enter the coordinates\").split()]\n",
        "if a>b:\n",
        "  if a>c:\n",
        "    print(\"a is greater\")\n",
        "  else:\n",
        "    print(\"c is greAter\")\n",
        "elif b>c:\n",
        "  print(\"b is greater\")\n",
        "else:\n",
        "  print(\"c is greater\")"
      ],
      "metadata": {
        "id": "70wsnOZbqZDi"
      },
      "execution_count": null,
      "outputs": []
    },
    {
      "cell_type": "code",
      "source": [
        "# Do the coordinate question using elif ladder and logical operators \n",
        "x,y=[int(x) for x in input().split()]\n",
        "if x==0 and y==0:\n",
        "  print(\"Origin\")\n",
        "elif x==0 and y!=0:\n",
        "  print(\"Y axis\")\n",
        "elif y==0 and x!=0:\n",
        "  print(\"X axis\")\n",
        "else:\n",
        "  print(\"XY plane \")"
      ],
      "metadata": {
        "colab": {
          "base_uri": "https://localhost:8080/"
        },
        "id": "yiqjmm3xqZFM",
        "outputId": "cfb1d94d-f672-48b3-dc0e-6cf392810979"
      },
      "execution_count": null,
      "outputs": [
        {
          "output_type": "stream",
          "name": "stdout",
          "text": [
            "9 0\n",
            "X axis\n"
          ]
        }
      ]
    },
    {
      "cell_type": "code",
      "source": [
        "# CHECK FOR THE LEAP YEAR \n",
        "x=int(input())\n",
        "if ((x%100==0 and x%400==0) or (x%4==0 and x%100!=0)):\n",
        "  print(\"Leap year\")\n",
        "else:\n",
        "  print(\"INVALID\")"
      ],
      "metadata": {
        "colab": {
          "base_uri": "https://localhost:8080/"
        },
        "id": "ivRbXrTTqZJF",
        "outputId": "77ed4f90-afbd-4331-af60-9d0745d9420c"
      },
      "execution_count": null,
      "outputs": [
        {
          "output_type": "stream",
          "name": "stdout",
          "text": [
            "1700\n",
            "INVALID\n"
          ]
        }
      ]
    },
    {
      "cell_type": "code",
      "source": [
        "# enter three sides of a triangle and chcek whetherthe triangle is an equilateral triangle or an isoceles triangle or a acsnle triagle \n",
        "a,b,c=[int(x) for x in input().split()]\n",
        "if a==b and a==c and b==c:\n",
        "  print(\"Equilateral triangle\")\n",
        "elif a==b or b==c or a==c:\n",
        "  print(\"Isoceles triangle\")\n",
        "else:\n",
        "  print(\"Scalene triangle\")"
      ],
      "metadata": {
        "colab": {
          "base_uri": "https://localhost:8080/"
        },
        "id": "_MRffXIe4bDK",
        "outputId": "f02d1f39-fbef-4595-d80d-69b076de9896"
      },
      "execution_count": null,
      "outputs": [
        {
          "output_type": "stream",
          "name": "stdout",
          "text": [
            "44 66 54\n",
            "Scalene triangle\n"
          ]
        }
      ]
    },
    {
      "cell_type": "code",
      "source": [
        "# enter 3 sides of a triangle, and check whether te tri is valid or not \n",
        "# Note: the triangle is valid only if the sum of any two sides is always greater than the thord side of the triabgle \n",
        "a,b,c=[int(x) for x in input().split()]\n",
        "s_ab=a+b\n",
        "s_bc=b+c\n",
        "s_ca=c+a\n",
        "if s_ab>c or s_bc>a or s_ca>b:\n",
        "  print(\"Valid\")\n",
        "else:\n",
        "  print(\"Invalid\")"
      ],
      "metadata": {
        "colab": {
          "base_uri": "https://localhost:8080/"
        },
        "id": "TeY5FXm75rlO",
        "outputId": "94860ac8-4abf-4227-88f6-4e99ca85cc3e"
      },
      "execution_count": null,
      "outputs": [
        {
          "output_type": "stream",
          "name": "stdout",
          "text": [
            "12 33 10\n",
            "Valid\n"
          ]
        }
      ]
    },
    {
      "cell_type": "code",
      "source": [
        "#Enter three sides of a triangle and check whether the tiangle is a right angle trianhle or not \n",
        "\n",
        "a,b,c=[int(x) for x in input().split()]\n",
        "if (a**2+b**2 == c**2) or  (b**2+c**2== a**2) or (a**2+c**2== b**2):\n",
        "  print(\"Its a right angle\")\n",
        "else:\n",
        "  print(\"Not a right angle \")"
      ],
      "metadata": {
        "colab": {
          "base_uri": "https://localhost:8080/"
        },
        "id": "uQDJmdZw5rs0",
        "outputId": "88285bbc-7fe0-48c4-e629-29fbbab84877"
      },
      "execution_count": null,
      "outputs": [
        {
          "output_type": "stream",
          "name": "stdout",
          "text": [
            "3 4 5\n",
            "Its a right angle\n"
          ]
        }
      ]
    },
    {
      "cell_type": "markdown",
      "source": [
        "LOOPING using while loop "
      ],
      "metadata": {
        "id": "5mDP_5zk56wy"
      }
    },
    {
      "cell_type": "code",
      "source": [
        "n=10\n",
        "while n>=1:\n",
        "  print(n,end=\" \")\n",
        "  n-=1 "
      ],
      "metadata": {
        "colab": {
          "base_uri": "https://localhost:8080/"
        },
        "id": "xWbCI8TJzI0S",
        "outputId": "dc9d2151-a706-4601-bb4e-a7868f97f09d"
      },
      "execution_count": null,
      "outputs": [
        {
          "output_type": "stream",
          "name": "stdout",
          "text": [
            "10 9 8 7 6 5 4 3 2 1 "
          ]
        }
      ]
    },
    {
      "cell_type": "code",
      "source": [
        "n=2\n",
        "while n<=20:\n",
        "  print(n,end=\" \")\n",
        "  n+=2"
      ],
      "metadata": {
        "colab": {
          "base_uri": "https://localhost:8080/"
        },
        "id": "3Yy8pnKdzI2Q",
        "outputId": "1cdc384c-fa8f-468f-b00a-d82593d31d8a"
      },
      "execution_count": null,
      "outputs": [
        {
          "output_type": "stream",
          "name": "stdout",
          "text": [
            "2 4 6 8 10 12 14 16 18 20 "
          ]
        }
      ]
    },
    {
      "cell_type": "code",
      "source": [
        "n=5\n",
        "while n<=50:\n",
        "  print(n,end=\" \")\n",
        "  n+=5"
      ],
      "metadata": {
        "colab": {
          "base_uri": "https://localhost:8080/"
        },
        "id": "4lzJAqSBzI6H",
        "outputId": "1696ece6-b5ca-49ff-8c6c-0d3520b52152"
      },
      "execution_count": null,
      "outputs": [
        {
          "output_type": "stream",
          "name": "stdout",
          "text": [
            "5 10 15 20 25 30 35 40 45 50 "
          ]
        }
      ]
    },
    {
      "cell_type": "code",
      "source": [
        "n=1\n",
        "while n<=21:\n",
        "  print(n,end=\" \")\n",
        "  n+=2"
      ],
      "metadata": {
        "colab": {
          "base_uri": "https://localhost:8080/"
        },
        "id": "8Lnfc-fTzJHh",
        "outputId": "9d3df3d1-e055-41ad-cdb0-f0d4bb82d3ad"
      },
      "execution_count": null,
      "outputs": [
        {
          "output_type": "stream",
          "name": "stdout",
          "text": [
            "1 3 5 7 9 11 13 15 17 19 21 "
          ]
        }
      ]
    },
    {
      "cell_type": "code",
      "source": [
        "n=1\n",
        "while n<=6:\n",
        "  print(n**2,end=\" \")\n",
        "  n+=1"
      ],
      "metadata": {
        "colab": {
          "base_uri": "https://localhost:8080/"
        },
        "id": "ZG-ty-vT6qgB",
        "outputId": "9becd522-93e1-41e2-893f-a37709cb19ab"
      },
      "execution_count": null,
      "outputs": [
        {
          "output_type": "stream",
          "name": "stdout",
          "text": [
            "1 4 9 16 25 36 "
          ]
        }
      ]
    },
    {
      "cell_type": "code",
      "source": [
        "n=1\n",
        "while n<=6:\n",
        "  print(n**3,end=\" \")\n",
        "  n+=1"
      ],
      "metadata": {
        "colab": {
          "base_uri": "https://localhost:8080/"
        },
        "id": "qu-8bdhQ6qh7",
        "outputId": "a5b49543-6770-4bcd-fa50-c66dea2b7a13"
      },
      "execution_count": null,
      "outputs": [
        {
          "output_type": "stream",
          "name": "stdout",
          "text": [
            "1 8 27 64 125 216 "
          ]
        }
      ]
    },
    {
      "cell_type": "code",
      "source": [
        "# Series: 2 9 28 65 126 217\n",
        "n=1\n",
        "while n<=6:\n",
        "  print(n**3+1,end=\" \")\n",
        "  n+=1"
      ],
      "metadata": {
        "colab": {
          "base_uri": "https://localhost:8080/"
        },
        "id": "cbGx9CF46qlW",
        "outputId": "16d598de-d077-408e-90b8-916b52827e39"
      },
      "execution_count": null,
      "outputs": [
        {
          "output_type": "stream",
          "name": "stdout",
          "text": [
            "2 9 28 65 126 217 "
          ]
        }
      ]
    },
    {
      "cell_type": "code",
      "source": [
        "# Series: 0 3 8 15 24 15::::::::::: 0+3=3 8-3=5 15-8=7 , 3,5,7\n",
        "n=3\n",
        "s=0\n",
        "while n<=11:\n",
        "  s+=n\n",
        "  print(s,end=\" \")\n",
        "  n+=2"
      ],
      "metadata": {
        "colab": {
          "base_uri": "https://localhost:8080/"
        },
        "id": "pcJBJO3I7ERQ",
        "outputId": "ee558210-5be2-415f-d95b-a7101a05702f"
      },
      "execution_count": null,
      "outputs": [
        {
          "output_type": "stream",
          "name": "stdout",
          "text": [
            "3 8 15 24 35 "
          ]
        }
      ]
    },
    {
      "cell_type": "code",
      "source": [
        "# REVERSE OF A NUMBER\n",
        "rev=0\n",
        "n=int(input(\"Enter a number\"))\n",
        "nn=n\n",
        "while(n!=0):\n",
        "  rem=n%10\n",
        "  rev=rev*10+rem\n",
        "  n//=10\n",
        "print(\"The reverse of {} are {}\".format(nn,rev))"
      ],
      "metadata": {
        "colab": {
          "base_uri": "https://localhost:8080/"
        },
        "id": "r0Ppr4AaAC6M",
        "outputId": "a2edd492-1e36-4791-e427-6f1decb0686c"
      },
      "execution_count": null,
      "outputs": [
        {
          "output_type": "stream",
          "name": "stdout",
          "text": [
            "Enter a number12345\n",
            "The reverse of 12345 are 54321\n"
          ]
        }
      ]
    },
    {
      "cell_type": "code",
      "source": [
        "# ENTER A NUMBER AND CHECK THE NUMBER OF DIGITS IN A NUMBER\n",
        "count=0\n",
        "n=int(input(\"Enter a number\"))\n",
        "nn=n\n",
        "while(n!=0):\n",
        "  count+=1\n",
        "  n//=10\n",
        "print(\"The number of digits in {} are {}\".format(nn,count))"
      ],
      "metadata": {
        "colab": {
          "base_uri": "https://localhost:8080/"
        },
        "id": "qx7plFL_82QS",
        "outputId": "f96497fa-0c73-43ef-c95d-08d440f73155"
      },
      "execution_count": null,
      "outputs": [
        {
          "output_type": "stream",
          "name": "stdout",
          "text": [
            "Enter a number89654\n",
            "The number of digits in 89654 are 5\n"
          ]
        }
      ]
    },
    {
      "cell_type": "code",
      "source": [
        "# SPY NUMBER OR NOT\n",
        "sum=0\n",
        "mult=1\n",
        "n=int(input(\"Enter a number\"))\n",
        "nn=n\n",
        "while(n!=0):\n",
        "  rem=n%10\n",
        "  sum+=rem\n",
        "  mult*=rem\n",
        "  n//=10\n",
        "if sum==mult:\n",
        "  print(\"{} is a spy number\".format(nn))\n",
        "else:\n",
        "  print(\"{} is not a spy number\".format(nn))"
      ],
      "metadata": {
        "colab": {
          "base_uri": "https://localhost:8080/"
        },
        "id": "xMNCP42582bd",
        "outputId": "722180c6-c9c3-4bfc-f699-c71d8317b808"
      },
      "execution_count": null,
      "outputs": [
        {
          "output_type": "stream",
          "name": "stdout",
          "text": [
            "Enter a number123\n",
            "123 is a spy number\n"
          ]
        }
      ]
    },
    {
      "cell_type": "code",
      "source": [
        "n=int(input(\"Enter a number\"))\n",
        "sum=0\n",
        "sq=n**2\n",
        "while sq!=0:\n",
        "  rem=sq%10\n",
        "  sum+=rem\n",
        "  sq//=10\n",
        "if sum==n:\n",
        "  print(\"Its a good number\")\n",
        "else:\n",
        "  print(\"Its not a good number\")\n"
      ],
      "metadata": {
        "colab": {
          "base_uri": "https://localhost:8080/"
        },
        "id": "8HIWbw6O82dR",
        "outputId": "1261178d-4d72-46ea-f746-5a637d4d68eb"
      },
      "execution_count": null,
      "outputs": [
        {
          "output_type": "stream",
          "name": "stdout",
          "text": [
            "Enter a number9\n",
            "81\n",
            "8\n",
            "Its a good number\n"
          ]
        }
      ]
    },
    {
      "cell_type": "code",
      "source": [
        "# FACTORIAL OF A NUMBER \n",
        "n=int(input(\"Entera  number\"))\n",
        "prod=1\n",
        "while(n>=1):\n",
        "  prod*=n\n",
        "  n-=1\n",
        "print(\"The factorial of the number is\", prod)"
      ],
      "metadata": {
        "colab": {
          "base_uri": "https://localhost:8080/"
        },
        "id": "YRbO2tcf82hW",
        "outputId": "956d45d4-ccc7-4855-cda0-375a0789cb86"
      },
      "execution_count": null,
      "outputs": [
        {
          "output_type": "stream",
          "name": "stdout",
          "text": [
            "Entera  number5\n",
            "The factorial of the number is 120\n"
          ]
        }
      ]
    },
    {
      "cell_type": "code",
      "source": [
        "# PRINT THE MULTIPLIICATION TABLE \n",
        "n=7\n",
        "i=1\n",
        "while(i<=10):\n",
        "  print(\"{} * {} = {}\".format(n,i,n*i))\n",
        "  i+=1\n"
      ],
      "metadata": {
        "colab": {
          "base_uri": "https://localhost:8080/"
        },
        "id": "iJeSZV42EM6V",
        "outputId": "1f98927c-ae44-48eb-a641-025f29fc9ae5"
      },
      "execution_count": null,
      "outputs": [
        {
          "output_type": "stream",
          "name": "stdout",
          "text": [
            "7 * 1 = 7\n",
            "7 * 2 = 14\n",
            "7 * 3 = 21\n",
            "7 * 4 = 28\n",
            "7 * 5 = 35\n",
            "7 * 6 = 42\n",
            "7 * 7 = 49\n",
            "7 * 8 = 56\n",
            "7 * 9 = 63\n",
            "7 * 10 = 70\n"
          ]
        }
      ]
    },
    {
      "cell_type": "code",
      "source": [
        "# cook your dish here\n",
        "T=int(input())\n",
        "for i in range(T):\n",
        "    X,Y=[int(x) for x in input().split()]\n",
        "    if X+Y >6:\n",
        "        print(\"YES\")\n",
        "    else:\n",
        "        print(\"NO\")\n",
        "    \n"
      ],
      "metadata": {
        "colab": {
          "base_uri": "https://localhost:8080/"
        },
        "id": "bdYlSQoP77jU",
        "outputId": "291fd196-3b7b-42d4-92f5-554e13ed3fe3"
      },
      "execution_count": null,
      "outputs": [
        {
          "output_type": "stream",
          "name": "stdout",
          "text": [
            "4\n",
            "1 4\n",
            "NO\n",
            "3 4\n",
            "YES\n",
            "4 2\n",
            "NO\n",
            "2 6\n",
            "YES\n"
          ]
        }
      ]
    },
    {
      "cell_type": "code",
      "source": [
        "# Enter a number and check whether its prime or not \n",
        "num=int(input(\"Enter a number\"))\n",
        "i=2\n",
        "while i<=num//2:\n",
        "  if num%i==0:\n",
        "    print(\"Its not a prime numer \")\n",
        "    break\n",
        "  i+=1\n",
        "if i>num//2:\n",
        "  print(\"Its a prime numer\")\n",
        "\n"
      ],
      "metadata": {
        "colab": {
          "base_uri": "https://localhost:8080/"
        },
        "id": "Rwn9Lrj6s26b",
        "outputId": "3571afc3-dc3c-410a-e649-488bd31c7766"
      },
      "execution_count": null,
      "outputs": [
        {
          "output_type": "stream",
          "name": "stdout",
          "text": [
            "Enter a number7\n",
            "Its a prime numer\n"
          ]
        }
      ]
    },
    {
      "cell_type": "code",
      "source": [
        "# Calculate the prime factors of a number entered by the user\n",
        "n=int(input(\"Enter the number whose prime factors are to be calculated\"))\n",
        "i=2\n",
        "while n!=1:\n",
        "  if n%i==0:\n",
        "    print(i,end=\" \")\n",
        "    n=n//i\n",
        "    continue\n",
        "  i+=1\n"
      ],
      "metadata": {
        "colab": {
          "base_uri": "https://localhost:8080/"
        },
        "id": "uWtL6T22s3D5",
        "outputId": "22ae385d-75be-4f65-e91a-c51d24b3de0a"
      },
      "execution_count": null,
      "outputs": [
        {
          "output_type": "stream",
          "name": "stdout",
          "text": [
            "Enter the number whose prime factors are to be calculated12\n",
            "2 2 3 "
          ]
        }
      ]
    },
    {
      "cell_type": "code",
      "source": [
        "n=int(input(\"Enter the number whose prime factors are to be calculated\"))\n",
        "i=2\n",
        "while n!=1:\n",
        "  if n%i==0:\n",
        "    print(i,end=\" \")\n",
        "    n=n//i\n",
        "  else:\n",
        "    i+=1"
      ],
      "metadata": {
        "colab": {
          "base_uri": "https://localhost:8080/"
        },
        "id": "DWRvsYOBs3Fh",
        "outputId": "01064fce-2bb0-478b-e67a-5dcc3f482f19"
      },
      "execution_count": null,
      "outputs": [
        {
          "output_type": "stream",
          "name": "stdout",
          "text": [
            "Enter the number whose prime factors are to be calculated16\n",
            "2 2 2 2 "
          ]
        }
      ]
    },
    {
      "cell_type": "markdown",
      "source": [
        "# FOR LOOPS : DESIGN THIS CODE \n",
        "    1\n",
        "    2 1 \n",
        "    3 2 1\n",
        "    4 3 2 1 \n",
        "    5 4 3 2 1 "
      ],
      "metadata": {
        "id": "Vpvzd_dYSIv4"
      }
    },
    {
      "cell_type": "code",
      "source": [
        "for i in range(1,6,1):\n",
        "  for j in range(i,0,-1):\n",
        "    print(j,end=\"\")\n",
        "  print()"
      ],
      "metadata": {
        "colab": {
          "base_uri": "https://localhost:8080/"
        },
        "id": "OblBrRnhs3J3",
        "outputId": "9f2d87ce-43b5-4924-c133-bb75653c5851"
      },
      "execution_count": null,
      "outputs": [
        {
          "output_type": "stream",
          "name": "stdout",
          "text": [
            "1\n",
            "21\n",
            "321\n",
            "4321\n",
            "54321\n"
          ]
        }
      ]
    },
    {
      "cell_type": "code",
      "source": [
        "for i in range(5,0,-1):\n",
        "  for j in range(5,i-1,-1):\n",
        "    print(j,end=\"\")\n",
        "  print()"
      ],
      "metadata": {
        "colab": {
          "base_uri": "https://localhost:8080/"
        },
        "id": "XEee0Z5lVOKu",
        "outputId": "cee8b7bc-742e-40e5-edb2-1b66b1c6b5c1"
      },
      "execution_count": null,
      "outputs": [
        {
          "output_type": "stream",
          "name": "stdout",
          "text": [
            "5\n",
            "54\n",
            "543\n",
            "5432\n",
            "54321\n"
          ]
        }
      ]
    },
    {
      "cell_type": "code",
      "source": [
        "for i in range(1,11,2):\n",
        "  for j in range(1,i+1,2):\n",
        "    print(j,end=\" \")\n",
        "  print()"
      ],
      "metadata": {
        "colab": {
          "base_uri": "https://localhost:8080/"
        },
        "id": "MUQ6e-QSWSTB",
        "outputId": "f418b589-ae7a-4c87-d5b9-20e57af61c6f"
      },
      "execution_count": null,
      "outputs": [
        {
          "output_type": "stream",
          "name": "stdout",
          "text": [
            "1 \n",
            "1 3 \n",
            "1 3 5 \n",
            "1 3 5 7 \n",
            "1 3 5 7 9 \n"
          ]
        }
      ]
    },
    {
      "cell_type": "code",
      "source": [
        "for i in range(9,0,-2):\n",
        "  for j in range(i,9+1,2):\n",
        "    print(j,end=\"\")\n",
        "  print()"
      ],
      "metadata": {
        "colab": {
          "base_uri": "https://localhost:8080/"
        },
        "id": "M0AuHjRkWSU6",
        "outputId": "c9c599b5-3c98-41b3-86d6-cf0434aa1a6e"
      },
      "execution_count": null,
      "outputs": [
        {
          "output_type": "stream",
          "name": "stdout",
          "text": [
            "9\n",
            "79\n",
            "579\n",
            "3579\n",
            "13579\n"
          ]
        }
      ]
    },
    {
      "cell_type": "code",
      "source": [
        "for i in range(5,0,-1):\n",
        "  for j in range(i,6):\n",
        "    print(i,end=\" \")\n",
        "  print()"
      ],
      "metadata": {
        "colab": {
          "base_uri": "https://localhost:8080/"
        },
        "id": "yIvINHyq85XU",
        "outputId": "687de4ce-1d42-43d3-b29c-97db43e8d495"
      },
      "execution_count": null,
      "outputs": [
        {
          "output_type": "stream",
          "name": "stdout",
          "text": [
            "5 \n",
            "4 4 \n",
            "3 3 3 \n",
            "2 2 2 2 \n",
            "1 1 1 1 1 \n"
          ]
        }
      ]
    },
    {
      "cell_type": "code",
      "source": [
        "n=1\n",
        "for i in range(1,6):\n",
        "  for j in range(1,i+1):\n",
        "    print(n,end=\" \")\n",
        "  n=n+2\n",
        "  print()"
      ],
      "metadata": {
        "colab": {
          "base_uri": "https://localhost:8080/"
        },
        "id": "8vREHNr9_oW4",
        "outputId": "600e29df-6a09-4bd5-b9fd-d84eea99af01"
      },
      "execution_count": null,
      "outputs": [
        {
          "output_type": "stream",
          "name": "stdout",
          "text": [
            "1 \n",
            "3 3 \n",
            "5 5 5 \n",
            "7 7 7 7 \n",
            "9 9 9 9 9 \n"
          ]
        }
      ]
    },
    {
      "cell_type": "code",
      "source": [
        "for i in range(1,11,2):\n",
        "  for j in range(i,11,2):\n",
        "    print(i,end=\" \")\n",
        "  print()"
      ],
      "metadata": {
        "colab": {
          "base_uri": "https://localhost:8080/"
        },
        "id": "rPtubUQb85fF",
        "outputId": "46a9b072-ab19-4bcd-f6e4-320a34effe84"
      },
      "execution_count": null,
      "outputs": [
        {
          "output_type": "stream",
          "name": "stdout",
          "text": [
            "1 1 1 1 1 \n",
            "3 3 3 3 \n",
            "5 5 5 \n",
            "7 7 \n",
            "9 \n"
          ]
        }
      ]
    },
    {
      "cell_type": "code",
      "source": [
        "for i in range(1,15,2):\n",
        "  for j in range(9,i-1,-1):\n",
        "    print(j,end=\" \")\n",
        "  print()"
      ],
      "metadata": {
        "colab": {
          "base_uri": "https://localhost:8080/"
        },
        "id": "RVZEg_Pt85g3",
        "outputId": "4cc233f1-c257-44af-dd52-dcef61a602bd"
      },
      "execution_count": null,
      "outputs": [
        {
          "output_type": "stream",
          "name": "stdout",
          "text": [
            "9 8 7 6 5 4 3 2 1 \n",
            "9 8 7 6 5 4 3 \n",
            "9 8 7 6 5 \n",
            "9 8 7 \n",
            "9 \n",
            "\n",
            "\n"
          ]
        }
      ]
    },
    {
      "cell_type": "code",
      "source": [
        "for i in range(1,11,2):\n",
        "  for j in range(i,9+1):\n",
        "    print(j,end=\" \")\n",
        "  print()"
      ],
      "metadata": {
        "colab": {
          "base_uri": "https://localhost:8080/"
        },
        "id": "PJg2F37885lz",
        "outputId": "4d66fdda-5dde-409d-e5aa-352cfaefb63d"
      },
      "execution_count": null,
      "outputs": [
        {
          "output_type": "stream",
          "name": "stdout",
          "text": [
            "1 2 3 4 5 6 7 8 9 \n",
            "3 4 5 6 7 8 9 \n",
            "5 6 7 8 9 \n",
            "7 8 9 \n",
            "9 \n"
          ]
        }
      ]
    },
    {
      "cell_type": "code",
      "source": [
        "c=1\n",
        "for i in range(1,6):\n",
        "  for j in range(1,i):\n",
        "    print(c,end=\" \")\n",
        "    c=c+1\n",
        "  print()"
      ],
      "metadata": {
        "colab": {
          "base_uri": "https://localhost:8080/"
        },
        "id": "fPVUK4e585qB",
        "outputId": "067fe9b8-79c7-40c7-bf16-9832f9ad1ba0"
      },
      "execution_count": null,
      "outputs": [
        {
          "output_type": "stream",
          "name": "stdout",
          "text": [
            "\n",
            "1 \n",
            "2 3 \n",
            "4 5 6 \n",
            "7 8 9 10 \n"
          ]
        }
      ]
    },
    {
      "cell_type": "markdown",
      "source": [
        "ARRAYS IN PYTHON: \n",
        "HOMOGENEOUS COLLECTION OF DATA "
      ],
      "metadata": {
        "id": "WZU0l8AyKmH_"
      }
    },
    {
      "cell_type": "code",
      "source": [
        "import array as ar\n",
        "collec=ar.array('i',[10,20,39,30])\n",
        "for value in collec:\n",
        "  print(value)"
      ],
      "metadata": {
        "id": "Aos6tmbwmFdN",
        "colab": {
          "base_uri": "https://localhost:8080/"
        },
        "outputId": "cb667907-662f-40b7-a3ce-5f6c68036478"
      },
      "execution_count": 1,
      "outputs": [
        {
          "output_type": "stream",
          "name": "stdout",
          "text": [
            "10\n",
            "20\n",
            "39\n",
            "30\n"
          ]
        }
      ]
    },
    {
      "cell_type": "code",
      "source": [
        "import array \n",
        "collec=array.array('i',[10,22,33,49,58,70])\n",
        "for value in collec:\n",
        "  print(value)"
      ],
      "metadata": {
        "id": "57lt4d5bmFf0",
        "colab": {
          "base_uri": "https://localhost:8080/"
        },
        "outputId": "002d9df8-4b39-4ce7-d8a6-7347b825df89"
      },
      "execution_count": 2,
      "outputs": [
        {
          "output_type": "stream",
          "name": "stdout",
          "text": [
            "10\n",
            "22\n",
            "33\n",
            "49\n",
            "58\n",
            "70\n"
          ]
        }
      ]
    },
    {
      "cell_type": "code",
      "source": [
        "import array \n",
        "collec=array.array('i',[10,22,33,49,58,70])\n",
        "len1=len(collec)\n",
        "for iter in range(0,len1):\n",
        "  print(collec[iter])"
      ],
      "metadata": {
        "id": "ZLP9kilWmFkW",
        "colab": {
          "base_uri": "https://localhost:8080/"
        },
        "outputId": "55fb89fb-50f2-4f22-ce91-78c96c95d103"
      },
      "execution_count": 3,
      "outputs": [
        {
          "output_type": "stream",
          "name": "stdout",
          "text": [
            "10\n",
            "22\n",
            "33\n",
            "49\n",
            "58\n",
            "70\n"
          ]
        }
      ]
    },
    {
      "cell_type": "markdown",
      "source": [
        "Enter values in an array given by the user"
      ],
      "metadata": {
        "id": "WH-mX54QN8UR"
      }
    },
    {
      "cell_type": "code",
      "source": [
        "from array import *\n",
        "a = [int(x) for x in input('Enter value ').split(',')]\n",
        "le = len(a)\n",
        "print(le)\n",
        "for i in a:\n",
        "    print(i)"
      ],
      "metadata": {
        "id": "fKII-JW_mFmV",
        "colab": {
          "base_uri": "https://localhost:8080/"
        },
        "outputId": "cb87dcd4-d60c-400d-d2bb-16210e7830f3"
      },
      "execution_count": 6,
      "outputs": [
        {
          "output_type": "stream",
          "name": "stdout",
          "text": [
            "Enter value 67,20,13,89\n",
            "4\n",
            "67\n",
            "20\n",
            "13\n",
            "89\n"
          ]
        }
      ]
    },
    {
      "cell_type": "code",
      "source": [
        "import array as ar\n",
        "a=[int(x) for x in input(\"Enter value\").split(',')]\n",
        "len1=len(a)\n",
        "for i in a:\n",
        "  print(i)"
      ],
      "metadata": {
        "colab": {
          "base_uri": "https://localhost:8080/"
        },
        "id": "FKwAqucfN_yO",
        "outputId": "2f3a48ab-6dad-4522-e581-fa29749a6868"
      },
      "execution_count": 7,
      "outputs": [
        {
          "output_type": "stream",
          "name": "stdout",
          "text": [
            "Enter value12,23,44,55\n",
            "12\n",
            "23\n",
            "44\n",
            "55\n"
          ]
        }
      ]
    },
    {
      "cell_type": "code",
      "source": [
        "from array import *\n",
        "a=array('i',[])\n",
        "a.append(10)\n",
        "a.append(20)\n",
        "a.append(38)\n",
        "a.append(49)\n",
        "a.append(50)\n",
        "for i in range(len(a)):\n",
        "  print(a[i])\n",
        "# Inserting elements in an array\n",
        "a.insert(2,100)\n",
        "# Printing the elements \n",
        "for i in range(len(a)):\n",
        "  print(a[i])\n",
        "# Deleting elements from an array \n",
        "a.pop(3)\n",
        "for i in range(len(a)):\n",
        "  print(a[i])"
      ],
      "metadata": {
        "colab": {
          "base_uri": "https://localhost:8080/"
        },
        "id": "ZA1r2iV5ObA9",
        "outputId": "ae057cc2-bf17-4cfd-d958-eec969117582"
      },
      "execution_count": 1,
      "outputs": [
        {
          "output_type": "stream",
          "name": "stdout",
          "text": [
            "10\n",
            "20\n",
            "38\n",
            "49\n",
            "50\n",
            "10\n",
            "20\n",
            "100\n",
            "38\n",
            "49\n",
            "50\n",
            "10\n",
            "20\n",
            "100\n",
            "49\n",
            "50\n"
          ]
        }
      ]
    },
    {
      "cell_type": "code",
      "source": [
        "# Find the minimum element the array\n",
        "arr=[int(x) for x in input(\"Enter the elements in an array\").split(',')]\n",
        "min=arr[0]\n",
        "ind=0\n",
        "for iter in range(1,len(arr)):\n",
        "  if arr[iter]<min:\n",
        "    min=arr[iter]\n",
        "    ind=iter\n",
        "print(\"The minimum element of an array is {} at position {}\".format(min,ind))\n"
      ],
      "metadata": {
        "colab": {
          "base_uri": "https://localhost:8080/"
        },
        "id": "Np4ZWXiBphV-",
        "outputId": "f5939ec7-4b1f-4e07-ae21-8096d5d4116a"
      },
      "execution_count": 2,
      "outputs": [
        {
          "output_type": "stream",
          "name": "stdout",
          "text": [
            "Enter the elements in an array89,78,56,90,55\n",
            "The minimum element of an array is 55 at position 4\n"
          ]
        }
      ]
    },
    {
      "cell_type": "markdown",
      "source": [
        "what is we start indexing from 1? Out of range error ??"
      ],
      "metadata": {
        "id": "hFbz9cZSqwaK"
      }
    },
    {
      "cell_type": "code",
      "source": [
        "# Find the maximum element in the array\n",
        "# Find the minimum element the array\n",
        "arr=[int(x) for x in input(\"Enter the elements in an array\").split(',')]\n",
        "max=arr[0]\n",
        "ind=0\n",
        "for iter in range(0,len(arr)):\n",
        "  if arr[iter]>max:\n",
        "    max=arr[i]\n",
        "    ind=i\n",
        "print(\"The maximum element of an array is {} at position {}\".format(max,ind))\n"
      ],
      "metadata": {
        "colab": {
          "base_uri": "https://localhost:8080/"
        },
        "id": "amPl_e5jpheq",
        "outputId": "2a5c08ed-fef5-42ff-e3bb-6b2e4b8cb8f5"
      },
      "execution_count": 7,
      "outputs": [
        {
          "output_type": "stream",
          "name": "stdout",
          "text": [
            "Enter the elements in an array100,22,48,99,196\n",
            "The maximum element of an array is 196 at position 4\n"
          ]
        }
      ]
    },
    {
      "cell_type": "code",
      "source": [
        "# Store the even and odd elements of an array in different arrays \n",
        "from array import *\n",
        "arr=[int(x) for x in input(\"Enter a number\").split(',')]\n",
        "arr_odd=array('i',[])\n",
        "arr_even=array('i',[])\n",
        "for iter in arr:\n",
        "  if iter%2==0:\n",
        "    arr_even.append(iter)\n",
        "  else:\n",
        "    arr_odd.append(iter)\n",
        "for i in arr_even:\n",
        "  print(i,end=\" \")\n",
        "print('\\n')\n",
        "for j in arr_odd:\n",
        "  print(j,end=\" \")\n",
        "\n"
      ],
      "metadata": {
        "colab": {
          "base_uri": "https://localhost:8080/"
        },
        "id": "sdxFA112phga",
        "outputId": "df5e4bfe-4f15-4bdc-bddf-b6fbd20c4ddf"
      },
      "execution_count": 18,
      "outputs": [
        {
          "output_type": "stream",
          "name": "stdout",
          "text": [
            "Enter a number11,33,45,66,100,28\n",
            "66 100 28 \n",
            "\n",
            "11 33 45 "
          ]
        }
      ]
    },
    {
      "cell_type": "code",
      "source": [
        "# Store the even and odd elements of an array in different arrays \n",
        "arr=[int(x) for x in input(\"Enter a number\").split(',')]\n",
        "arr_odd=[]\n",
        "arr_even=[]\n",
        "for iter in arr:\n",
        "  if iter%2==0:\n",
        "    arr_even.append(iter)\n",
        "  else:\n",
        "    arr_odd.append(iter)\n",
        "arr_odd.append(\"hello\")\n",
        "for i in arr_even:\n",
        "  print(i,end=\" \")\n",
        "print('\\n')\n",
        "for j in arr_odd:\n",
        "  print(j,end=\" \")\n",
        "\n"
      ],
      "metadata": {
        "colab": {
          "base_uri": "https://localhost:8080/"
        },
        "id": "WAXnWvjKphkU",
        "outputId": "063af862-44e1-4f8f-c3fa-2184d52eae62"
      },
      "execution_count": 3,
      "outputs": [
        {
          "output_type": "stream",
          "name": "stdout",
          "text": [
            "Enter a number78,90,56\n",
            "78 90 56 \n",
            "\n",
            "hello "
          ]
        }
      ]
    },
    {
      "cell_type": "code",
      "source": [
        "from array import * \n",
        "arr=array('i',[])\n",
        "n=int(input(\"enter n\"))\n",
        "for iter in range(0,n):\n",
        "  a=input(\"Enter value\")\n",
        "  arr.append(a)\n",
        "arr_str=arr.toString()\n",
        "for value in arr_str:\n",
        "  print(value)\n"
      ],
      "metadata": {
        "id": "t5k2XcoXmFqe",
        "colab": {
          "base_uri": "https://localhost:8080/",
          "height": 322
        },
        "outputId": "6f71082f-6fdf-485b-a10f-c9c01d68b220"
      },
      "execution_count": 24,
      "outputs": [
        {
          "name": "stdout",
          "output_type": "stream",
          "text": [
            "enter n4\n",
            "Enter valued\n",
            "Enter valuej\n",
            "Enter valuek\n",
            "Enter valuea\n"
          ]
        },
        {
          "output_type": "error",
          "ename": "AttributeError",
          "evalue": "ignored",
          "traceback": [
            "\u001b[0;31m---------------------------------------------------------------------------\u001b[0m",
            "\u001b[0;31mAttributeError\u001b[0m                            Traceback (most recent call last)",
            "\u001b[0;32m<ipython-input-24-5f7de8b3ee2c>\u001b[0m in \u001b[0;36m<cell line: 7>\u001b[0;34m()\u001b[0m\n\u001b[1;32m      5\u001b[0m   \u001b[0ma\u001b[0m\u001b[0;34m=\u001b[0m\u001b[0minput\u001b[0m\u001b[0;34m(\u001b[0m\u001b[0;34m\"Enter value\"\u001b[0m\u001b[0;34m)\u001b[0m\u001b[0;34m\u001b[0m\u001b[0;34m\u001b[0m\u001b[0m\n\u001b[1;32m      6\u001b[0m   \u001b[0marr\u001b[0m\u001b[0;34m.\u001b[0m\u001b[0mappend\u001b[0m\u001b[0;34m(\u001b[0m\u001b[0ma\u001b[0m\u001b[0;34m)\u001b[0m\u001b[0;34m\u001b[0m\u001b[0;34m\u001b[0m\u001b[0m\n\u001b[0;32m----> 7\u001b[0;31m \u001b[0marr_str\u001b[0m\u001b[0;34m=\u001b[0m\u001b[0marr\u001b[0m\u001b[0;34m.\u001b[0m\u001b[0mtoString\u001b[0m\u001b[0;34m(\u001b[0m\u001b[0;34m)\u001b[0m\u001b[0;34m\u001b[0m\u001b[0;34m\u001b[0m\u001b[0m\n\u001b[0m\u001b[1;32m      8\u001b[0m \u001b[0;32mfor\u001b[0m \u001b[0mvalue\u001b[0m \u001b[0;32min\u001b[0m \u001b[0marr_str\u001b[0m\u001b[0;34m:\u001b[0m\u001b[0;34m\u001b[0m\u001b[0;34m\u001b[0m\u001b[0m\n\u001b[1;32m      9\u001b[0m   \u001b[0mprint\u001b[0m\u001b[0;34m(\u001b[0m\u001b[0mvalue\u001b[0m\u001b[0;34m)\u001b[0m\u001b[0;34m\u001b[0m\u001b[0;34m\u001b[0m\u001b[0m\n",
            "\u001b[0;31mAttributeError\u001b[0m: 'array.array' object has no attribute 'toString'"
          ]
        }
      ]
    },
    {
      "cell_type": "code",
      "source": [
        "from array import * \n",
        "str=input(\"Enter marks\").split(\" \")\n",
        "marks=[int(x) for x in str]\n",
        "sum=0\n",
        "for value in marks:\n",
        "  print(value)\n",
        "  sum+=value\n",
        "print(\"Total Marks\", sum)\n",
        "# Percentage \n",
        "n=len(marks)\n",
        "percent=sum/n\n",
        "print(\"percentage\",percent)"
      ],
      "metadata": {
        "colab": {
          "base_uri": "https://localhost:8080/"
        },
        "id": "_6oPWaltPuzM",
        "outputId": "0d3b4bdb-b3dd-4d39-b338-1133d5c4b6a7"
      },
      "execution_count": 25,
      "outputs": [
        {
          "output_type": "stream",
          "name": "stdout",
          "text": [
            "Enter marks12 33 56 77 19\n",
            "12\n",
            "33\n",
            "56\n",
            "77\n",
            "19\n",
            "Total Marks 197\n",
            "percentage 39.4\n"
          ]
        }
      ]
    },
    {
      "cell_type": "code",
      "source": [
        "# Enter elements in an array and convert -ve into 0\n",
        "from array import *\n",
        "arr=array('i',[])\n",
        "length=int(input(\"enter length of the array\"))\n",
        "for iter in range(0,length):\n",
        "  arr.append(int(input()))\n",
        "print('\\n')\n",
        "for iter in range(0,length):\n",
        "  if arr[iter]<0:\n",
        "    arr[iter]=0\n",
        "for value in arr:\n",
        "  print(value,end=\" \")\n"
      ],
      "metadata": {
        "id": "4_Dn3LdcmFsT",
        "colab": {
          "base_uri": "https://localhost:8080/"
        },
        "outputId": "e00217cb-cc03-4323-eb5f-aa9d27521c8e"
      },
      "execution_count": 27,
      "outputs": [
        {
          "output_type": "stream",
          "name": "stdout",
          "text": [
            "enter length of the array5\n",
            "10\n",
            "-2\n",
            "98\n",
            "-77\n",
            "-65\n",
            "\n",
            "\n",
            "10 0 98 0 0 "
          ]
        }
      ]
    },
    {
      "cell_type": "markdown",
      "source": [
        "Delete the positive elements in an array\n",
        "> pop: deletes the value, now the number of elements also decrease, so array index out of bound, so we need to explicitly increment the value."
      ],
      "metadata": {
        "id": "RMykr-nUX1_R"
      }
    },
    {
      "cell_type": "code",
      "source": [
        "# delete positive elements in an array \n",
        "from array import * \n",
        "arr=array('i',[])\n",
        "n=int(input(\"enter the length\"))\n",
        "for iter in range(0,n):\n",
        "  arr.append(int(input()))\n",
        "print('\\n')\n",
        "iter=0\n",
        "# iter is for positioning \n",
        "for val in arr:\n",
        "    if val > 0:\n",
        "        arr.pop(iter)\n",
        "    iter+=1\n",
        "for value in arr:\n",
        "  print(value,end=\" \")\n"
      ],
      "metadata": {
        "colab": {
          "base_uri": "https://localhost:8080/"
        },
        "id": "3xSxQmmXRmG9",
        "outputId": "7c6bbc27-0f8c-4286-a3d9-629da06a0966"
      },
      "execution_count": 38,
      "outputs": [
        {
          "output_type": "stream",
          "name": "stdout",
          "text": [
            "enter the length4\n",
            "-99\n",
            "44\n",
            "-77\n",
            "33\n",
            "\n",
            "\n",
            "-99 -77 "
          ]
        }
      ]
    },
    {
      "cell_type": "markdown",
      "source": [
        "> Find the peak elements of an array, the element which is greater than both its neighbour"
      ],
      "metadata": {
        "id": "5lNsCzTCYYof"
      }
    },
    {
      "cell_type": "code",
      "source": [
        "from array import * \n",
        "arr=array('i',[])\n",
        "n=int(input(\"enter the length of an array\"))\n",
        "for iter in range(0,n):\n",
        "  arr.append(int(input()))\n",
        "print()\n",
        "for iter in range(1,n-1):\n",
        "  if arr[iter]> arr[iter-1] and arr[iter]>arr[iter+1]:\n",
        "    print(arr[iter])\n"
      ],
      "metadata": {
        "colab": {
          "base_uri": "https://localhost:8080/"
        },
        "id": "BIB-IwuSYgdA",
        "outputId": "d7393b64-5835-495d-ab04-00c49a9834b4"
      },
      "execution_count": 41,
      "outputs": [
        {
          "output_type": "stream",
          "name": "stdout",
          "text": [
            "enter the length of an array7\n",
            "10\n",
            "20\n",
            "15\n",
            "2\n",
            "23\n",
            "90\n",
            "67\n",
            "\n",
            "20\n",
            "90\n"
          ]
        }
      ]
    },
    {
      "cell_type": "markdown",
      "source": [
        "> Linear search of an array "
      ],
      "metadata": {
        "id": "mMD-2f1_cP3K"
      }
    },
    {
      "cell_type": "code",
      "source": [
        "from array import * \n",
        "arr=array('i',[])\n",
        "n=int(input(\"Enter the length of an array\"))\n",
        "for iter in range(0,n):\n",
        "  arr.append(int(input()))\n",
        "item=int(input(\"Emter the item to be searched\"))\n",
        "for iter in range(0,n):\n",
        "  if arr[iter]==item:\n",
        "    print(\"Element {} found at {}\".format(arr[iter],iter))\n",
        "    break\n",
        "else:\n",
        "  iter+=18\n",
        "print(iter)\n",
        "if iter==n:\n",
        "  print(\"Element not found \")\n"
      ],
      "metadata": {
        "colab": {
          "base_uri": "https://localhost:8080/"
        },
        "id": "MmQlEyWeZz1_",
        "outputId": "b7877971-c79f-436f-97e9-3322e92c76ed"
      },
      "execution_count": 48,
      "outputs": [
        {
          "output_type": "stream",
          "name": "stdout",
          "text": [
            "Enter the length of an array3\n",
            "11\n",
            "55\n",
            "88\n",
            "Emter the item to be searched88\n",
            "Element 88 found at 2\n",
            "2\n"
          ]
        }
      ]
    },
    {
      "cell_type": "markdown",
      "source": [
        "> Find how many times an item occurs in an array "
      ],
      "metadata": {
        "id": "s4-a359RcTzZ"
      }
    },
    {
      "cell_type": "code",
      "source": [
        "from array import * \n",
        "arr,count=array('i',[]),0\n",
        "n=int(input(\"Enter the length of an array\"))\n",
        "for iter in range(0,n):\n",
        "  arr.append(int(input()))\n",
        "item=int(input(\"Emter the item to be searched\"))\n",
        "for value in arr:\n",
        "  if value==item:\n",
        "    count+=1\n",
        "if count==0:\n",
        "  print(\"Value not found\")\n",
        "else:\n",
        "  print(\"The value {} occured {} times\".format(item,count))\n",
        "  "
      ],
      "metadata": {
        "colab": {
          "base_uri": "https://localhost:8080/"
        },
        "id": "J8pxyhxPeCtf",
        "outputId": "893756a2-b85f-4017-82f4-eee9c1e4e7c3"
      },
      "execution_count": 54,
      "outputs": [
        {
          "output_type": "stream",
          "name": "stdout",
          "text": [
            "Enter the length of an array3\n",
            "1\n",
            "2\n",
            "1\n",
            "Emter the item to be searched1\n",
            "The value 1 occured 2 times\n"
          ]
        }
      ]
    },
    {
      "cell_type": "markdown",
      "source": [
        "> Delete positive elements in an array"
      ],
      "metadata": {
        "id": "xf8xZqPlfihe"
      }
    },
    {
      "cell_type": "code",
      "source": [
        "# delete positive elements in an array \n",
        "from array import * \n",
        "arr=array('i',[])\n",
        "n=int(input(\"enter the length\"))\n",
        "for iter in range(0,n):\n",
        "  arr.append(int(input()))\n",
        "print('\\n')\n",
        "iter=0\n",
        "j=0\n",
        "# iter is for positioning \n",
        "for i in range(0,n-j):\n",
        "   if(arr[j]>=0) :\n",
        "        arr.pop(j) \n",
        "   else:\n",
        "        j+=1\n",
        "for value in arr:\n",
        "  print(value,end=\" \")"
      ],
      "metadata": {
        "colab": {
          "base_uri": "https://localhost:8080/"
        },
        "id": "sIk21r-EfSr6",
        "outputId": "66d276bf-d4cd-433f-eff8-0f877315fa2e"
      },
      "execution_count": 1,
      "outputs": [
        {
          "output_type": "stream",
          "name": "stdout",
          "text": [
            "enter the length8\n",
            "33\n",
            "44\n",
            "-45\n",
            "88\n",
            "99\n",
            "-66\n",
            "83\n",
            "40\n",
            "\n",
            "\n",
            "-45 -66 "
          ]
        }
      ]
    },
    {
      "cell_type": "markdown",
      "source": [
        "Searches :\n",
        "1. Linear Search : Unsorted array \n",
        "2. Binary Search : Sorted Array"
      ],
      "metadata": {
        "id": "f1Y-8qmCvuM4"
      }
    },
    {
      "cell_type": "code",
      "source": [
        "# Binary Search\n",
        "from array import * \n",
        "arr,n=array('i',[]),5\n",
        "for iter in range(0,n):\n",
        "  arr.append(int(input()))\n",
        "beg,end,item=0,n-1,int(input(\"enter element to be found\"))\n",
        "while(beg<=end):\n",
        "  mid=(beg+end)//2\n",
        "  if item==arr[mid]:\n",
        "    print(\"Element found\")\n",
        "    break\n",
        "  elif item>arr[mid]:\n",
        "    beg=mid+1\n",
        "  else:\n",
        "    start=mid-1\n",
        "if beg>end:\n",
        "  print(\"element not found\")\n",
        "  \n",
        "\n"
      ],
      "metadata": {
        "colab": {
          "base_uri": "https://localhost:8080/"
        },
        "id": "sjGoUp31hI7c",
        "outputId": "737f4142-6217-46c9-862f-e76be96cce70"
      },
      "execution_count": 7,
      "outputs": [
        {
          "output_type": "stream",
          "name": "stdout",
          "text": [
            "12\n",
            "33\n",
            "56\n",
            "77\n",
            "90\n",
            "enter element to be found100\n",
            "element not found\n"
          ]
        }
      ]
    },
    {
      "cell_type": "code",
      "source": [
        "# Bubble Sort\n",
        "from array import * \n",
        "arr=array('i',[10,5,30,80,60,38,50,2])\n",
        "n=len(arr)\n",
        "for i in range(0,n):\n",
        "  for j in range(0,n-1):\n",
        "      if arr[j+1]<arr[j]:\n",
        "        temp=arr[j+1]\n",
        "        arr[j+1]=arr[j]\n",
        "        arr[j]=temp\n",
        "print(\"After Sorting\")\n",
        "for val in arr:\n",
        "  print(val, end=\" \")"
      ],
      "metadata": {
        "colab": {
          "base_uri": "https://localhost:8080/"
        },
        "id": "t4FhLWmN1prW",
        "outputId": "5d71e490-8cfc-4ab3-9e41-5338ab5471f6"
      },
      "execution_count": 14,
      "outputs": [
        {
          "output_type": "stream",
          "name": "stdout",
          "text": [
            "After Sorting\n",
            "2 5 10 30 38 50 60 80 "
          ]
        }
      ]
    },
    {
      "cell_type": "code",
      "source": [
        "# Selection Sort : Pick the minimum element and place it in the begining \n",
        "# We take ind, cuz we need to swap the value over the position and not the element\n",
        "from array import * \n",
        "arr=array('i',[10,5,30,80,60,38,50,2])\n",
        "n=len(arr)\n",
        "for j in range(0,n):\n",
        "  min=arr[j]\n",
        "  ind=j\n",
        "  for i in range(j+1,n):\n",
        "    if arr[i]<min:\n",
        "      min=arr[i]\n",
        "      ind=i\n",
        "  # Now we need to swap arr[j] with minimum value, check if the index is same or not\n",
        "  if j!=ind:\n",
        "    temp=arr[j]\n",
        "    arr[j]=arr[ind]\n",
        "    arr[ind]=temp  \n",
        "print(\"After Sorting\")\n",
        "for val in arr:\n",
        "  print(val, end=\" \")\n",
        "\n"
      ],
      "metadata": {
        "colab": {
          "base_uri": "https://localhost:8080/"
        },
        "id": "QcoCKWDN68Gi",
        "outputId": "44daeb28-ae1a-4387-970d-1b3864ea3736"
      },
      "execution_count": 23,
      "outputs": [
        {
          "output_type": "stream",
          "name": "stdout",
          "text": [
            "After Sorting\n",
            "2 5 10 30 38 50 60 80 "
          ]
        }
      ]
    },
    {
      "cell_type": "code",
      "source": [
        "# Input an array and remove the duplicate elements into another array\n",
        "from array import * \n",
        "arr,n=array('i',[]),5\n",
        "count=0\n",
        "dup=array('i',[])\n",
        "for iter in range(0,n):\n",
        "  arr.append(int(input()))\n",
        "for i in range(0,n):\n",
        "  item=arr[i]\n",
        "  for j in range(i+1,n):\n",
        "    if arr[j]==item:\n",
        "      count+=1\n",
        "  if count>0:\n",
        "    print(\"The count=\",count)\n",
        "    dup.append(arr[j])\n",
        "for val in dup:\n",
        "  print(val, end=\" \")\n"
      ],
      "metadata": {
        "colab": {
          "base_uri": "https://localhost:8080/"
        },
        "id": "Nz2JzJjNGzFW",
        "outputId": "b9eb3fa1-728a-44f4-ff69-868fc1efb105"
      },
      "execution_count": 30,
      "outputs": [
        {
          "output_type": "stream",
          "name": "stdout",
          "text": [
            "3\n",
            "3\n",
            "4\n",
            "3\n",
            "5\n",
            "The count= 2\n",
            "The count= 3\n",
            "The count= 3\n",
            "The count= 3\n",
            "The count= 3\n",
            "5 5 5 5 5 "
          ]
        }
      ]
    },
    {
      "cell_type": "code",
      "source": [
        "from array import * \n",
        "arr,n=array('i',[]),5\n",
        "count=0\n",
        "for i in range(0,5):\n",
        "  \n",
        "\n"
      ],
      "metadata": {
        "id": "HpAZeuJZJ5-B"
      },
      "execution_count": null,
      "outputs": []
    },
    {
      "cell_type": "code",
      "source": [],
      "metadata": {
        "id": "g4fRI0B_GzQ-"
      },
      "execution_count": null,
      "outputs": []
    },
    {
      "cell_type": "code",
      "source": [],
      "metadata": {
        "id": "M4AdSNrJGzSx"
      },
      "execution_count": null,
      "outputs": []
    },
    {
      "cell_type": "code",
      "source": [],
      "metadata": {
        "id": "cFeBod-yGzW-"
      },
      "execution_count": null,
      "outputs": []
    },
    {
      "cell_type": "code",
      "source": [],
      "metadata": {
        "id": "57jhB1aKGzYt"
      },
      "execution_count": null,
      "outputs": []
    }
  ]
}